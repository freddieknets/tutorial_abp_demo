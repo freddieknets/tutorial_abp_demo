{
 "cells": [
  {
   "cell_type": "markdown",
   "id": "c17b6d19-4ff0-497e-842b-ade3820bd1c1",
   "metadata": {},
   "source": [
    "# FCC-ee radiation"
   ]
  },
  {
   "cell_type": "code",
   "execution_count": null,
   "id": "f847894e-447f-4ccf-be82-2204172a51a8",
   "metadata": {},
   "outputs": [],
   "source": [
    "%matplotlib widget"
   ]
  },
  {
   "cell_type": "code",
   "execution_count": null,
   "id": "bfae6978-7623-4713-a58e-8107d36358fa",
   "metadata": {},
   "outputs": [],
   "source": [
    "import xtrack as xt\n",
    "import xobjects as xo\n",
    "\n",
    "import numpy as np\n",
    "import matplotlib.pyplot as plt\n",
    "from scipy.constants import e as qe\n",
    "from scipy.constants import c as clight"
   ]
  },
  {
   "cell_type": "markdown",
   "id": "078a4409-6d5f-4824-a6b0-4563ce60b744",
   "metadata": {},
   "source": [
    "### Load machine model"
   ]
  },
  {
   "cell_type": "code",
   "execution_count": null,
   "id": "337d5e53-00de-41d9-9c57-0464112c08cd",
   "metadata": {},
   "outputs": [],
   "source": [
    "line = xt.Line.from_json('fccee_t_with_sol_corrected.json')"
   ]
  },
  {
   "cell_type": "markdown",
   "id": "976bb562-642b-4d5d-8080-16229fcd6017",
   "metadata": {},
   "source": [
    "#### RF and solenoid correction"
   ]
  },
  {
   "cell_type": "code",
   "execution_count": null,
   "id": "e12715d4-55fe-490c-9ec9-b1fbc7a35a33",
   "metadata": {},
   "outputs": [],
   "source": [
    "line.vars['voltca1'] = 75       # RF on\n",
    "line.vars['voltca2'] = 349.77   # RF on\n",
    "line.vars['on_sol_ip.1'] = 1    # Solenoid on\n",
    "line.vars['on_corr_ip.1'] = 1   # Solenoid correction on "
   ]
  },
  {
   "cell_type": "markdown",
   "id": "7dce049f-0578-49a2-84f8-f8d7766d4af3",
   "metadata": {},
   "source": [
    "#### Twiss with no radiation"
   ]
  },
  {
   "cell_type": "code",
   "execution_count": null,
   "id": "359b3dc2-3288-429d-b841-27084deb7beb",
   "metadata": {},
   "outputs": [],
   "source": [
    "tw_rad_off = line.twiss(method='4d')"
   ]
  },
  {
   "cell_type": "markdown",
   "id": "34a8169a-69d5-4b7f-98e9-79a2f38ff7f1",
   "metadata": {},
   "source": [
    "### Configure radiation"
   ]
  },
  {
   "cell_type": "code",
   "execution_count": null,
   "id": "572a5e5b-aa1e-4b42-8c1f-2262670518a3",
   "metadata": {},
   "outputs": [],
   "source": [
    "line.configure_radiation(model='mean') # Radiation without quantum fluctuations"
   ]
  },
  {
   "cell_type": "markdown",
   "id": "27478648-dfcd-4ef4-9502-89f9e7152ebc",
   "metadata": {},
   "source": [
    "#### Twiss with radiation (with initial conditions)"
   ]
  },
  {
   "cell_type": "code",
   "execution_count": null,
   "id": "cab2b39b-ce08-43c5-8fa0-7180cef90ade",
   "metadata": {},
   "outputs": [],
   "source": [
    "tw_rad_on = line.twiss(start='ip.4', end='ip.4.l', init=tw_rad_off)"
   ]
  },
  {
   "cell_type": "code",
   "execution_count": null,
   "id": "734044cb-c71f-41d8-b87c-7b7e51beecb2",
   "metadata": {},
   "outputs": [],
   "source": [
    "plt.figure(figsize=(6.4, 4.8*1.1))\n",
    "ax1 = plt.subplot(3,1,1)\n",
    "plt.plot(tw_rad_on.s, tw_rad_on.delta, label='before compensation')\n",
    "plt.grid()\n",
    "plt.ylabel(r'$\\delta$ [$10^{-3}$]')\n",
    "\n",
    "ax2 = plt.subplot(3,1,2, sharex=ax1)\n",
    "plt.plot(tw_rad_on.s, tw_rad_on.x*1e3,)\n",
    "plt.ylim(-10, 10)\n",
    "plt.ylabel('x [mm]')\n",
    "plt.grid()\n",
    "\n",
    "ax2 = plt.subplot(3,1,3, sharex=ax1)\n",
    "plt.plot(tw_rad_on.s, tw_rad_on.betx / tw_rad_off.betx - 1)\n",
    "plt.ylabel(r'$\\Delta \\beta_y / \\beta_y$')\n",
    "plt.xlabel('s [m]')\n",
    "plt.grid()\n",
    "\n",
    "plt.subplots_adjust(left=.2, top=.95, hspace=.2)"
   ]
  },
  {
   "cell_type": "markdown",
   "id": "28b44d84-449a-4dc9-85d8-15753c22d68c",
   "metadata": {},
   "source": [
    "### Energy loss compensation"
   ]
  },
  {
   "cell_type": "markdown",
   "id": "66a5ddec-85e1-49a1-a0a3-0bcd7079d9cf",
   "metadata": {},
   "source": [
    "Adjust magnet strength to actual energy (tapering) and phase RF cavities"
   ]
  },
  {
   "cell_type": "code",
   "execution_count": null,
   "id": "d69eba96-79e4-4e24-8013-1db10dea70bb",
   "metadata": {},
   "outputs": [],
   "source": [
    "line.compensate_radiation_energy_loss()"
   ]
  },
  {
   "cell_type": "markdown",
   "id": "d90501f2-9206-4269-9db4-e0c411e12d88",
   "metadata": {},
   "source": [
    "#### Twiss after compensation"
   ]
  },
  {
   "cell_type": "code",
   "execution_count": null,
   "id": "a5bc87fe-6855-4dff-b3af-9a87a554b9ac",
   "metadata": {},
   "outputs": [],
   "source": [
    "tw_compens_on = line.twiss()"
   ]
  },
  {
   "cell_type": "code",
   "execution_count": null,
   "id": "85d405be-7d47-4d3b-8aea-810c74af7d99",
   "metadata": {},
   "outputs": [],
   "source": [
    "plt.figure(figsize=(6.4, 4.8*1.1))\n",
    "ax1 = plt.subplot(3,1,1)\n",
    "plt.plot(tw_rad_on.s, tw_rad_on.delta, label='before compensation')\n",
    "plt.plot(tw_rad_on.s, tw_compens_on.delta, color='C1', label='after compensation')\n",
    "plt.grid()\n",
    "plt.ylabel(r'$\\delta$')\n",
    "plt.legend(fontsize='small')\n",
    "\n",
    "ax2 = plt.subplot(3,1,2, sharex=ax1)\n",
    "plt.plot(tw_rad_on.s, tw_rad_on.x*1e3,)\n",
    "plt.plot(tw_rad_on.s, tw_compens_on.x*1e3, color='C1')\n",
    "plt.ylim(-10, 10)\n",
    "plt.ylabel('x [mm]')\n",
    "plt.grid()\n",
    "\n",
    "ax2 = plt.subplot(3,1,3, sharex=ax1)\n",
    "plt.plot(tw_rad_on.s, tw_rad_on.betx / tw_rad_off.betx - 1)\n",
    "plt.plot(tw_rad_on.s, tw_compens_on.betx / tw_rad_off.betx - 1, color='C1')\n",
    "plt.ylabel(r'$\\Delta \\beta_y / \\beta_y$')\n",
    "plt.xlabel('s [m]')\n",
    "plt.grid()\n",
    "\n",
    "plt.subplots_adjust(left=.2, top=.95, hspace=.2)"
   ]
  },
  {
   "cell_type": "markdown",
   "id": "5b17b6ec-0295-49e7-9650-9605334c2ad4",
   "metadata": {},
   "source": [
    "### Computation of radiated power per unit length"
   ]
  },
  {
   "cell_type": "markdown",
   "id": "d20eb2e6-093f-4afc-a2e0-74d8107aaa5e",
   "metadata": {},
   "source": [
    "#### Extract strengths and element lengths"
   ]
  },
  {
   "cell_type": "code",
   "execution_count": null,
   "id": "dd4658c0-9d6f-4939-b790-1a018a7f4f96",
   "metadata": {},
   "outputs": [],
   "source": [
    "tt=line.get_table(attr=True) \n",
    "energy0 = tw_rad_on.particle_on_co.energy0[0]\n",
    "mask_ip = tt.name == 'ip.1'\n",
    "s_ip = tt['s', 'ip.1']\n",
    "\n",
    "# Solenoid field\n",
    "brho = line.particle_ref.p0c[0] / clight / line.particle_ref.q0\n",
    "Bz = tt.ks * brho"
   ]
  },
  {
   "cell_type": "markdown",
   "id": "31b682d4-526d-44c9-aeb0-1b1eccbbd64f",
   "metadata": {},
   "source": [
    "#### Compute power per unit length"
   ]
  },
  {
   "cell_type": "code",
   "execution_count": null,
   "id": "bb47bf22-dc20-4251-9252-7ea71b20b71e",
   "metadata": {},
   "outputs": [],
   "source": [
    "mask_len = tt.length > 0\n",
    "dE = -(np.diff(tw_compens_on.ptau) * tw_compens_on.particle_on_co.energy0[0])\n",
    "dE_ds = tt.s * 0\n",
    "dE_ds[mask_len] = dE[mask_len[:-1]] / tt.length[mask_len]"
   ]
  },
  {
   "cell_type": "markdown",
   "id": "9acb4b8d-4f37-4f78-91ef-aca92a434cc2",
   "metadata": {},
   "source": [
    "#### Plot"
   ]
  },
  {
   "cell_type": "code",
   "execution_count": null,
   "id": "df03d07e-bfdd-4ea3-a5bf-efccc2224663",
   "metadata": {},
   "outputs": [],
   "source": [
    "plt.figure(figsize=(6.4, 4.8*1.1))\n",
    "ax1 = plt.subplot(3, 1, 1)\n",
    "plt.plot(tt.s[~mask_ip] - s_ip, Bz[~mask_ip])\n",
    "plt.ylabel('Bz [T]')\n",
    "plt.grid()\n",
    "\n",
    "ax2 = plt.subplot(3, 1, 2, sharex=ax1)\n",
    "plt.plot(tw_compens_on.s - s_ip, tw_compens_on.delta)\n",
    "plt.ylabel(r'$\\delta$')\n",
    "plt.ylim(-0.03, -0.02)\n",
    "plt.grid()\n",
    "\n",
    "ax3 = plt.subplot(3, 1, 3, sharex=ax1)\n",
    "plt.plot(tw_compens_on.s - s_ip, dE_ds * 1e-2 * 1e-3, '-', label='dE/ds')\n",
    "plt.ylabel('dE/ds [keV/cm]')\n",
    "plt.xlim(-5000, 5000)\n",
    "plt.xlabel('s [m]')\n",
    "plt.grid()\n",
    "\n",
    "plt.subplots_adjust(left=.2, top=.95, hspace=.2)"
   ]
  },
  {
   "cell_type": "markdown",
   "id": "345b976a-9c16-4d0d-b6bb-e1e87ba3aff7",
   "metadata": {},
   "source": [
    "### Damping and equilibrium emittance from twiss calculation"
   ]
  },
  {
   "cell_type": "code",
   "execution_count": null,
   "id": "3c5c96ab-c0f8-4071-922b-b3a8c63f079f",
   "metadata": {},
   "outputs": [],
   "source": [
    "tw = line.twiss(eneloss_and_damping=True, radiation_method='full')"
   ]
  },
  {
   "cell_type": "code",
   "execution_count": null,
   "id": "e7b3614e-8f2a-4105-abb7-e23c811ef747",
   "metadata": {},
   "outputs": [],
   "source": [
    "1 / tw.damping_constants_turns # Damping times"
   ]
  },
  {
   "cell_type": "code",
   "execution_count": null,
   "id": "76a472cf-8a5c-4f3d-a1b3-ed993c2833f6",
   "metadata": {},
   "outputs": [],
   "source": [
    "tw.partition_numbers"
   ]
  },
  {
   "cell_type": "code",
   "execution_count": null,
   "id": "dce1714e-c628-4a51-a1b1-e47d5f9538bc",
   "metadata": {},
   "outputs": [],
   "source": [
    "tw.eq_gemitt_x, tw.eq_gemitt_y, tw.eq_gemitt_zeta"
   ]
  },
  {
   "cell_type": "code",
   "execution_count": null,
   "id": "45bf879e-6ba4-46c2-987f-f144e6fd3bc0",
   "metadata": {},
   "outputs": [],
   "source": [
    "# Equilibrium beam sizes\n",
    "beam_sizes = tw.get_beam_covariance(\n",
    "    gemitt_x=tw.eq_gemitt_x, gemitt_y=0*tw.eq_gemitt_y,\n",
    "    gemitt_zeta=tw.eq_gemitt_zeta)"
   ]
  },
  {
   "cell_type": "code",
   "execution_count": null,
   "id": "8ee24c0d-bc37-485e-bb00-c68f512ebae1",
   "metadata": {},
   "outputs": [],
   "source": [
    "# Equilibrium beam sizes at IP.1\n",
    "beam_sizes.rows['ip.1'].cols['sigma_x sigma_y sigma_zeta']"
   ]
  },
  {
   "cell_type": "markdown",
   "id": "278c9faa-4310-49e1-b258-9d53caaed943",
   "metadata": {},
   "source": [
    "## Tracking with radiation"
   ]
  },
  {
   "cell_type": "code",
   "execution_count": null,
   "id": "4bc27fca-11db-4db0-98df-cd1e4618e5e4",
   "metadata": {},
   "outputs": [],
   "source": [
    "num_particles_test = 200\n",
    "n_turns_track_test = 200"
   ]
  },
  {
   "cell_type": "markdown",
   "id": "90a66fb6-bed4-49d3-af69-32593488ccb4",
   "metadata": {},
   "source": [
    "#### Build a set of particles on the closed orbit"
   ]
  },
  {
   "cell_type": "code",
   "execution_count": null,
   "id": "1bafd528-42f7-4217-a1c6-cc7cb54a1a54",
   "metadata": {},
   "outputs": [],
   "source": [
    "p = line.build_particles(num_particles=num_particles_test)"
   ]
  },
  {
   "cell_type": "markdown",
   "id": "49c8cd34-9851-4b64-ac12-5284ca0bb64a",
   "metadata": {},
   "source": [
    "#### Enable quantum fluctuations"
   ]
  },
  {
   "cell_type": "code",
   "execution_count": null,
   "id": "a6734f16-e80c-4e2f-9ac4-4c6e300943de",
   "metadata": {},
   "outputs": [],
   "source": [
    "line.configure_radiation(model='quantum') "
   ]
  },
  {
   "cell_type": "markdown",
   "id": "1f1e7365-895c-4ef6-bffc-2ecfcc8d5cdf",
   "metadata": {},
   "source": [
    "#### Enable multicore parallelization"
   ]
  },
  {
   "cell_type": "code",
   "execution_count": null,
   "id": "4bee3b54-541a-4ade-a02a-de070d73f2fd",
   "metadata": {},
   "outputs": [],
   "source": [
    "line.discard_tracker()\n",
    "line.build_tracker(_context=xo.ContextCpu(omp_num_threads='auto'))"
   ]
  },
  {
   "cell_type": "markdown",
   "id": "bf8ede2f-5794-4e79-b63b-cd06521efcde",
   "metadata": {},
   "source": [
    "#### Track"
   ]
  },
  {
   "cell_type": "code",
   "execution_count": null,
   "id": "06ce81e9-8f0e-455a-b9fa-c35155c0df95",
   "metadata": {},
   "outputs": [],
   "source": [
    "line.track(p, num_turns=n_turns_track_test, turn_by_turn_monitor=True, time=True,\n",
    "           with_progress=10)"
   ]
  },
  {
   "cell_type": "markdown",
   "id": "3cc0c2de-b019-4cd7-9c09-d38ffb3a1dc6",
   "metadata": {},
   "source": [
    "#### Plot beam sizes at IP"
   ]
  },
  {
   "cell_type": "code",
   "execution_count": null,
   "id": "4c6d8bd7-62bf-4512-9cf7-b544c38ebb69",
   "metadata": {},
   "outputs": [],
   "source": [
    "mon = line.record_last_track\n",
    "\n",
    "fig = plt.figure(figsize=(6.4, 4.8*1.3))\n",
    "\n",
    "spx = fig. add_subplot(3, 1, 1)\n",
    "spx.plot(1e6 * np.std(mon.x, axis=0), label='track')\n",
    "spx.axhline(1e6 * beam_sizes['sigma_x', 'ip.1'], color='red', label='twiss')\n",
    "spx.legend(loc='lower right', fontsize='small')\n",
    "spx.set_ylabel(r'$\\sigma_{x}$ [$\\mu m$]')\n",
    "spx.set_ylim(bottom=0)\n",
    "\n",
    "spy = fig. add_subplot(3, 1, 2, sharex=spx)\n",
    "spy.plot(1e9 * np.std(mon.y, axis=0), label='track')\n",
    "spy.axhline(1e9 * beam_sizes['sigma_y', 'ip.1'], color='red', label='twiss')\n",
    "spy.set_ylabel(r'$\\sigma_{y}$ [nm]')\n",
    "spy.set_ylim(bottom=0)\n",
    "\n",
    "spz = fig. add_subplot(3, 1, 3, sharex=spx)\n",
    "spz.plot(np.std(1e3*mon.zeta, axis=0))\n",
    "spz.axhline(1e3*beam_sizes['sigma_zeta', 'ip.1'], color='red', label='twiss')\n",
    "spz.set_ylabel(r'$\\sigma_{z}$ [mm]')\n",
    "spz.set_ylim(bottom=0)\n",
    "spz.set_xlabel('s [m]')\n",
    "plt.subplots_adjust(left=.2, top=.95, hspace=.2)"
   ]
  },
  {
   "cell_type": "code",
   "execution_count": null,
   "id": "58d287fd-5ce9-4e16-a9ee-8c9fb10945f7",
   "metadata": {},
   "outputs": [],
   "source": []
  }
 ],
 "metadata": {
  "kernelspec": {
   "display_name": "Python 3 (ipykernel)",
   "language": "python",
   "name": "python3"
  },
  "language_info": {
   "codemirror_mode": {
    "name": "ipython",
    "version": 3
   },
   "file_extension": ".py",
   "mimetype": "text/x-python",
   "name": "python",
   "nbconvert_exporter": "python",
   "pygments_lexer": "ipython3",
   "version": "3.11.7"
  }
 },
 "nbformat": 4,
 "nbformat_minor": 5
}
