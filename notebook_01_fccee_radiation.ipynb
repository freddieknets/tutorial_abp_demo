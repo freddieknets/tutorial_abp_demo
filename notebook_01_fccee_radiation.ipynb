{
 "cells": [
  {
   "cell_type": "code",
   "execution_count": 6,
   "id": "f847894e-447f-4ccf-be82-2204172a51a8",
   "metadata": {},
   "outputs": [],
   "source": [
    "%matplotlib widget"
   ]
  },
  {
   "cell_type": "code",
   "execution_count": 7,
   "id": "bfae6978-7623-4713-a58e-8107d36358fa",
   "metadata": {},
   "outputs": [],
   "source": [
    "import xtrack as xt\n",
    "\n",
    "import matplotlib.pyplot as plt"
   ]
  },
  {
   "cell_type": "code",
   "execution_count": 8,
   "id": "286e678e-22cc-4e3c-b791-fba8d56d2e5a",
   "metadata": {},
   "outputs": [
    {
     "data": {
      "application/vnd.jupyter.widget-view+json": {
       "model_id": "bda6946c06864b18ac35ce6ef5ea2588",
       "version_major": 2,
       "version_minor": 0
      },
      "text/plain": [
       "Loading line from dict:   0%|          | 0/81624 [00:00<?, ?it/s]"
      ]
     },
     "metadata": {},
     "output_type": "display_data"
    },
    {
     "name": "stdout",
     "output_type": "stream",
     "text": [
      "Done loading line from dict.           \n"
     ]
    }
   ],
   "source": [
    "line = xt.Line.from_json('../../xtrack/examples/fcc_ee_solenoid/fccee_z_with_sol_corrected.json')"
   ]
  },
  {
   "cell_type": "code",
   "execution_count": 9,
   "id": "5449e98d-4467-42f6-856f-aa1828142b0c",
   "metadata": {},
   "outputs": [
    {
     "name": "stdout",
     "output_type": "stream",
     "text": [
      "Found suitable prebuilt kernel `default_only_xtrack`.\n",
      "Found suitable prebuilt kernel `only_xtrack_frozen_energy`.\n",
      "Compensating energy loss.\n",
      "Found suitable prebuilt kernel `only_xtrack_frozen_longitudinal`.\n",
      "Found suitable prebuilt kernel `only_xtrack_with_synrad`.\n",
      "Share energy loss among cavities (repeat until energy loss is zero)\n",
      "Found suitable prebuilt kernel `only_xtrack_taper`.\n",
      "Energy loss: 39572848.831 eV             \n",
      "Energy loss: 16731.202 eV             \n",
      "Energy loss: 7.083 eV             \n",
      "Energy loss: 0.003 eV             \n",
      "\n",
      "  - Set delta_taper\n",
      "  - Restore cavity voltage and frequency. Set cavity lag\n",
      "Found suitable prebuilt kernel `only_xtrack_with_synrad_kick_as_co`.\n"
     ]
    }
   ],
   "source": [
    "line.cycle('ip.1')\n",
    "\n",
    "tw_no_rad = line.twiss(method='4d')\n",
    "line.configure_radiation(model='mean')\n",
    "tt = line.get_table(attr=True)\n",
    "\n",
    "line.vars['on_corr_ip.1'] = 1\n",
    "line.vars['on_sol_ip.1'] = 1\n",
    "\n",
    "\n",
    "# # Radiation only in solenoid\n",
    "# ttmult = tt.rows[tt.element_type == 'Multipole']\n",
    "# for nn in ttmult.name:\n",
    "#     line[nn].radiation_flag=0\n",
    "\n",
    "# RF on\n",
    "line.vars['voltca1'] = line.vv['voltca1_ref']\n",
    "line.vars['voltca2'] = line.vv['voltca2_ref']\n",
    "line.compensate_radiation_energy_loss()\n",
    "tw = line.twiss()"
   ]
  },
  {
   "cell_type": "code",
   "execution_count": null,
   "id": "a5bc87fe-6855-4dff-b3af-9a87a554b9ac",
   "metadata": {},
   "outputs": [],
   "source": [
    "tw = line.twiss(eneloss_and_damping=True)"
   ]
  },
  {
   "cell_type": "code",
   "execution_count": null,
   "id": "45bf879e-6ba4-46c2-987f-f144e6fd3bc0",
   "metadata": {},
   "outputs": [],
   "source": [
    "bs = tw_rad.get_beam_covariance(gemitt_x=tw_rad.eq_gemitt_x, gemitt_y=tw_rad.eq_gemitt_y, gemitt_zeta=tw_rad.eq_gemitt_zeta)"
   ]
  },
  {
   "cell_type": "code",
   "execution_count": null,
   "id": "8ee24c0d-bc37-485e-bb00-c68f512ebae1",
   "metadata": {},
   "outputs": [],
   "source": [
    "1/tw.damping_constants_turns"
   ]
  },
  {
   "cell_type": "code",
   "execution_count": null,
   "id": "73b5d72f-716a-41d9-89ae-7a61893a2cb5",
   "metadata": {},
   "outputs": [],
   "source": [
    "tw.partition_numbers"
   ]
  },
  {
   "cell_type": "code",
   "execution_count": null,
   "id": "04d77115-3db9-44a3-b4bb-e4456bb40b3e",
   "metadata": {},
   "outputs": [],
   "source": [
    "tw.partition_numbers.sum()"
   ]
  },
  {
   "cell_type": "code",
   "execution_count": null,
   "id": "6e7e7db0-48bb-474b-b405-e8eee94472fe",
   "metadata": {},
   "outputs": [],
   "source": [
    "tw.c_minus"
   ]
  },
  {
   "cell_type": "code",
   "execution_count": null,
   "id": "7bd6155b-fa32-496c-8425-ed679a633605",
   "metadata": {},
   "outputs": [],
   "source": [
    "tw.eq_gemitt_x"
   ]
  },
  {
   "cell_type": "code",
   "execution_count": null,
   "id": "35a263ef-d846-4804-a990-72ab1b0db613",
   "metadata": {},
   "outputs": [],
   "source": [
    "plt.figure()\n",
    "plt.plot(tw.s, tw.dy)"
   ]
  },
  {
   "cell_type": "code",
   "execution_count": null,
   "id": "90dad499-532f-4dba-a117-83bd1560fd57",
   "metadata": {},
   "outputs": [],
   "source": []
  }
 ],
 "metadata": {
  "kernelspec": {
   "display_name": "Python 3 (ipykernel)",
   "language": "python",
   "name": "python3"
  },
  "language_info": {
   "codemirror_mode": {
    "name": "ipython",
    "version": 3
   },
   "file_extension": ".py",
   "mimetype": "text/x-python",
   "name": "python",
   "nbconvert_exporter": "python",
   "pygments_lexer": "ipython3",
   "version": "3.11.7"
  }
 },
 "nbformat": 4,
 "nbformat_minor": 5
}
