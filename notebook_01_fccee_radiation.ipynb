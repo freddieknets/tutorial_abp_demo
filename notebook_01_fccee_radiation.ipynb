{
 "cells": [
  {
   "cell_type": "code",
   "execution_count": 85,
   "id": "f847894e-447f-4ccf-be82-2204172a51a8",
   "metadata": {},
   "outputs": [],
   "source": [
    "%matplotlib widget"
   ]
  },
  {
   "cell_type": "code",
   "execution_count": 86,
   "id": "bfae6978-7623-4713-a58e-8107d36358fa",
   "metadata": {},
   "outputs": [],
   "source": [
    "import xtrack as xt\n",
    "\n",
    "import matplotlib.pyplot as plt"
   ]
  },
  {
   "cell_type": "code",
   "execution_count": 87,
   "id": "286e678e-22cc-4e3c-b791-fba8d56d2e5a",
   "metadata": {},
   "outputs": [
    {
     "data": {
      "application/vnd.jupyter.widget-view+json": {
       "model_id": "f86e096ed2814533b4d7bad60efe1b94",
       "version_major": 2,
       "version_minor": 0
      },
      "text/plain": [
       "Loading line from dict:   0%|          | 0/79095 [00:00<?, ?it/s]"
      ]
     },
     "metadata": {},
     "output_type": "display_data"
    },
    {
     "name": "stdout",
     "output_type": "stream",
     "text": [
      "Done loading line from dict.           \n"
     ]
    }
   ],
   "source": [
    "line = xt.Line.from_json('../../xtrack/examples/fcc_ee_solenoid/fccee_z_with_sol_corrected.json')"
   ]
  },
  {
   "cell_type": "code",
   "execution_count": 88,
   "id": "6b4df9b1-9a54-4e90-a0c6-336d9d20c007",
   "metadata": {},
   "outputs": [
    {
     "name": "stdout",
     "output_type": "stream",
     "text": [
      "Found suitable prebuilt kernel `default_only_xtrack`.\n",
      "Found suitable prebuilt kernel `only_xtrack_frozen_energy`.\n"
     ]
    }
   ],
   "source": [
    "tw_sol_off = line.twiss4d()"
   ]
  },
  {
   "cell_type": "code",
   "execution_count": null,
   "id": "5449e98d-4467-42f6-856f-aa1828142b0c",
   "metadata": {},
   "outputs": [],
   "source": []
  }
 ],
 "metadata": {
  "kernelspec": {
   "display_name": "Python 3 (ipykernel)",
   "language": "python",
   "name": "python3"
  },
  "language_info": {
   "codemirror_mode": {
    "name": "ipython",
    "version": 3
   },
   "file_extension": ".py",
   "mimetype": "text/x-python",
   "name": "python",
   "nbconvert_exporter": "python",
   "pygments_lexer": "ipython3",
   "version": "3.11.7"
  }
 },
 "nbformat": 4,
 "nbformat_minor": 5
}
