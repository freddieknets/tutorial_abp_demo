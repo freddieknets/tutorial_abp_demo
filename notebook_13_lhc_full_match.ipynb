{
 "cells": [
  {
   "cell_type": "code",
   "execution_count": 1,
   "id": "70b7e0e3-b7e0-436a-bcd3-4b55548e6166",
   "metadata": {},
   "outputs": [],
   "source": [
    "%matplotlib widget"
   ]
  },
  {
   "cell_type": "code",
   "execution_count": 2,
   "id": "d6de4eb3-7830-4527-91ee-15d26b640006",
   "metadata": {},
   "outputs": [],
   "source": [
    "import xtrack as xt\n",
    "\n",
    "import numpy as np\n",
    "import matplotlib.pyplot as plt"
   ]
  },
  {
   "cell_type": "code",
   "execution_count": 3,
   "id": "7b8399d3-714e-4cf5-a277-1206c8597bba",
   "metadata": {},
   "outputs": [
    {
     "data": {
      "application/vnd.jupyter.widget-view+json": {
       "model_id": "e591f24937954cd2b37e9fef8e040e2f",
       "version_major": 2,
       "version_minor": 0
      },
      "text/plain": [
       "Loading line from dict:   0%|          | 0/30281 [00:00<?, ?it/s]"
      ]
     },
     "metadata": {},
     "output_type": "display_data"
    },
    {
     "name": "stdout",
     "output_type": "stream",
     "text": [
      "Done loading line from dict.           \n"
     ]
    },
    {
     "data": {
      "application/vnd.jupyter.widget-view+json": {
       "model_id": "60d15b97aa9f483b8ee4e4184754a41f",
       "version_major": 2,
       "version_minor": 0
      },
      "text/plain": [
       "Loading line from dict:   0%|          | 0/30289 [00:00<?, ?it/s]"
      ]
     },
     "metadata": {},
     "output_type": "display_data"
    },
    {
     "name": "stdout",
     "output_type": "stream",
     "text": [
      "Done loading line from dict.           \n",
      "Found suitable prebuilt kernel `default_only_xtrack`.\n",
      "Found suitable prebuilt kernel `default_only_xtrack`.\n"
     ]
    }
   ],
   "source": [
    "collider = xt.Multiline.from_json(\n",
    "    \"../../xtrack/test_data/hllhc15_thick/hllhc15_collider_thick.json\")\n",
    "collider.build_trackers()\n",
    "collider.vars.load_madx_optics_file(\n",
    "    \"../../xtrack/test_data/hllhc15_thick/opt_round_150_1500.madx\")"
   ]
  },
  {
   "cell_type": "code",
   "execution_count": 4,
   "id": "35858be9-dfac-4ecb-a112-315a9c0c671a",
   "metadata": {},
   "outputs": [],
   "source": [
    "import lhc_match as lm\n",
    "lm.set_var_limits_and_steps(collider)"
   ]
  },
  {
   "cell_type": "code",
   "execution_count": 5,
   "id": "83bb410d-18a7-4b7f-9c61-c9490402da79",
   "metadata": {},
   "outputs": [
    {
     "name": "stdout",
     "output_type": "stream",
     "text": [
      "Found suitable prebuilt kernel `only_xtrack_frozen_energy`.\n",
      "Found suitable prebuilt kernel `only_xtrack_frozen_energy`.\n",
      "Found suitable prebuilt kernel `only_xtrack_backtrack_frozen_energy`.\n",
      "Found suitable prebuilt kernel `only_xtrack_backtrack_frozen_energy`.\n",
      "Step 1/3\n",
      "Matching betx_ip1=0.15 bety_ip1=0.13333333333333333 betx_ip5=0.13333333333333333 bety_ip5=0.15\n",
      "Found suitable prebuilt kernel `default_only_xtrack`.\n",
      "Found suitable prebuilt kernel `default_only_xtrack`.\n",
      "Found suitable prebuilt kernel `default_only_xtrack`.\n",
      "Found suitable prebuilt kernel `default_only_xtrack`.\n",
      "Matching IR2 b1\n",
      "Matching: model call n. 88               \n",
      "\n",
      "Matching IR3 b1\n",
      "Matching: model call n. 19               \n",
      "\n",
      "Matching IR4 b1\n",
      "Matching: model call n. 101               \n",
      "\n",
      "Matching IP6 b1\n",
      "Matching: model call n. 68               \n",
      "\n",
      "Matching IP7 b1\n",
      "Matching: model call n. 1               \n",
      "\n",
      "Matching IP8 b1\n",
      "Matching: model call n. 88               \n",
      "\n",
      "Step 2/3\n",
      "Matching betx_ip1=0.15 bety_ip1=0.11666666666666667 betx_ip5=0.11666666666666667 bety_ip5=0.15\n",
      "Found suitable prebuilt kernel `default_only_xtrack`.\n",
      "Found suitable prebuilt kernel `default_only_xtrack`.\n",
      "Found suitable prebuilt kernel `default_only_xtrack`.\n",
      "Found suitable prebuilt kernel `default_only_xtrack`.\n",
      "Matching IR2 b1\n",
      "Matching: model call n. 88               \n",
      "\n",
      "Matching IR3 b1\n",
      "Matching: model call n. 1               \n",
      "\n",
      "Matching IR4 b1\n",
      "Matching: model call n. 101               \n",
      "\n",
      "Matching IP6 b1\n",
      "Matching: model call n. 68               \n",
      "\n",
      "Matching IP7 b1\n",
      "Matching: model call n. 1               \n",
      "\n",
      "Matching IP8 b1\n",
      "Matching: model call n. 88               \n",
      "\n",
      "Step 3/3\n",
      "Matching betx_ip1=0.15 bety_ip1=0.1 betx_ip5=0.1 bety_ip5=0.15\n",
      "Found suitable prebuilt kernel `default_only_xtrack`.\n",
      "Found suitable prebuilt kernel `default_only_xtrack`.\n",
      "Found suitable prebuilt kernel `default_only_xtrack`.\n",
      "Found suitable prebuilt kernel `default_only_xtrack`.\n",
      "Matching IR2 b1\n",
      "Matching: model call n. 88               \n",
      "\n",
      "Matching IR3 b1\n",
      "Matching: model call n. 1               \n",
      "\n",
      "Matching IR4 b1\n",
      "Matching: model call n. 121               \n",
      "\n",
      "Matching IP6 b1\n",
      "Matching: model call n. 68               \n",
      "\n",
      "Matching IP7 b1\n",
      "Matching: model call n. 1               \n",
      "\n",
      "Matching IP8 b1\n",
      "Matching: model call n. 66               \n",
      "\n",
      "Step 1/3\n",
      "Matching betx_ip1=0.15 bety_ip1=0.13333333333333333 betx_ip5=0.13333333333333333 bety_ip5=0.15\n",
      "Found suitable prebuilt kernel `default_only_xtrack`.\n",
      "Found suitable prebuilt kernel `default_only_xtrack`.\n",
      "Found suitable prebuilt kernel `default_only_xtrack`.\n",
      "Found suitable prebuilt kernel `default_only_xtrack`.\n",
      "Matching IR2 b2\n",
      "Matching: model call n. 88               \n",
      "\n",
      "Matching IR3 b2\n",
      "Matching: model call n. 1               \n",
      "\n",
      "Matching IR4 b2\n",
      "Matching: model call n. 80               \n",
      "\n",
      "Matching IP6 b2\n",
      "Matching: model call n. 68               \n",
      "\n",
      "Matching IP7 b2\n",
      "Matching: model call n. 1               \n",
      "\n",
      "Matching IP8 b2\n",
      "Matching: model call n. 88               \n",
      "\n",
      "Step 2/3\n",
      "Matching betx_ip1=0.15 bety_ip1=0.11666666666666667 betx_ip5=0.11666666666666667 bety_ip5=0.15\n",
      "Found suitable prebuilt kernel `default_only_xtrack`.\n",
      "Found suitable prebuilt kernel `default_only_xtrack`.\n",
      "Found suitable prebuilt kernel `default_only_xtrack`.\n",
      "Found suitable prebuilt kernel `default_only_xtrack`.\n",
      "Matching IR2 b2\n",
      "Matching: model call n. 88               \n",
      "\n",
      "Matching IR3 b2\n",
      "Matching: model call n. 1               \n",
      "\n",
      "Matching IR4 b2\n",
      "Matching: model call n. 80               \n",
      "\n",
      "Matching IP6 b2\n",
      "Matching: model call n. 68               \n",
      "\n",
      "Matching IP7 b2\n",
      "Matching: model call n. 1               \n",
      "\n",
      "Matching IP8 b2\n",
      "Matching: model call n. 88               \n",
      "\n",
      "Step 3/3\n",
      "Matching betx_ip1=0.15 bety_ip1=0.1 betx_ip5=0.1 bety_ip5=0.15\n",
      "Found suitable prebuilt kernel `default_only_xtrack`.\n",
      "Found suitable prebuilt kernel `default_only_xtrack`.\n",
      "Found suitable prebuilt kernel `default_only_xtrack`.\n",
      "Found suitable prebuilt kernel `default_only_xtrack`.\n",
      "Matching IR2 b2\n",
      "Matching: model call n. 88               \n",
      "\n",
      "Matching IR3 b2\n",
      "Matching: model call n. 1               \n",
      "\n",
      "Matching IR4 b2\n",
      "Matching: model call n. 80               \n",
      "\n",
      "Matching IP6 b2\n",
      "Matching: model call n. 68               \n",
      "\n",
      "Matching IP7 b2\n",
      "Matching: model call n. 1               \n",
      "\n",
      "Matching IP8 b2\n",
      "Matching: model call n. 88               \n",
      "\n",
      "Rematching chromaticities\n",
      "Matching: model call n. 44               \n",
      "\n",
      "Matching: model call n. 54               \n",
      "\n"
     ]
    }
   ],
   "source": [
    "optimizers = lm.change_beta15(collider, \n",
    "                 betx_ip1_target=0.15, bety_ip1_target=0.10,\n",
    "                 betx_ip5_target=0.10, bety_ip5_target=0.15)"
   ]
  },
  {
   "cell_type": "code",
   "execution_count": 12,
   "id": "26768f81-1cec-4ab2-865d-bfa1e9bdfb24",
   "metadata": {},
   "outputs": [
    {
     "name": "stdout",
     "output_type": "stream",
     "text": [
      "N. modified circuits: 146\n"
     ]
    }
   ],
   "source": [
    "# Count number of modified circuits\n",
    "n_circuits = 0\n",
    "for bb in ['b1', 'b2']:\n",
    "    for irn in ['ir2', 'ir4', 'ir6', 'ir8']:\n",
    "        n_circuits += len(optimizers[bb][irn].vary)\n",
    "print('N. modified circuits:', n_circuits)"
   ]
  },
  {
   "cell_type": "code",
   "execution_count": 6,
   "id": "e3f1be3f-6875-40de-955f-e2af5a4f308f",
   "metadata": {
    "scrolled": true
   },
   "outputs": [
    {
     "name": "stdout",
     "output_type": "stream",
     "text": [
      "Found suitable prebuilt kernel `default_only_xtrack`.\n",
      "Found suitable prebuilt kernel `default_only_xtrack`.\n",
      "Matching: model call n. 20               \n",
      "\n",
      "Generated knob:  on_o2v\n",
      "Found suitable prebuilt kernel `default_only_xtrack`.\n",
      "Found suitable prebuilt kernel `default_only_xtrack`.\n",
      "Matching: model call n. 10               \n",
      "\n",
      "Generated knob:  on_o2h\n",
      "Found suitable prebuilt kernel `default_only_xtrack`.\n",
      "Found suitable prebuilt kernel `default_only_xtrack`.\n",
      "Matching: model call n. 20               \n",
      "\n",
      "Generated knob:  on_o8v\n",
      "Found suitable prebuilt kernel `default_only_xtrack`.\n",
      "Found suitable prebuilt kernel `default_only_xtrack`.\n",
      "Matching: model call n. 30               \n",
      "\n",
      "Generated knob:  on_o8h\n",
      "Found suitable prebuilt kernel `default_only_xtrack`.\n",
      "Found suitable prebuilt kernel `default_only_xtrack`.\n",
      "Matching: model call n. 10               \n",
      "\n",
      "Generated knob:  on_a2h\n",
      "Found suitable prebuilt kernel `default_only_xtrack`.\n",
      "Found suitable prebuilt kernel `default_only_xtrack`.\n",
      "Matching: model call n. 10               \n",
      "\n",
      "Generated knob:  on_a2v\n",
      "Found suitable prebuilt kernel `default_only_xtrack`.\n",
      "Found suitable prebuilt kernel `default_only_xtrack`.\n",
      "Matching: model call n. 30               \n",
      "\n",
      "Generated knob:  on_a8h\n",
      "Found suitable prebuilt kernel `default_only_xtrack`.\n",
      "Found suitable prebuilt kernel `default_only_xtrack`.\n",
      "Matching: model call n. 10               \n",
      "\n",
      "Generated knob:  on_a8v\n",
      "Found suitable prebuilt kernel `default_only_xtrack`.\n",
      "Found suitable prebuilt kernel `default_only_xtrack`.\n",
      "Matching: model call n. 30               \n",
      "\n",
      "Generated knob:  on_x2h\n",
      "Found suitable prebuilt kernel `default_only_xtrack`.\n",
      "Found suitable prebuilt kernel `default_only_xtrack`.\n",
      "Matching: model call n. 20               \n",
      "\n",
      "Generated knob:  on_x2v\n",
      "Found suitable prebuilt kernel `default_only_xtrack`.\n",
      "Found suitable prebuilt kernel `default_only_xtrack`.\n",
      "Matching: model call n. 52               \n",
      "\n",
      "Generated knob:  on_x8h\n",
      "Found suitable prebuilt kernel `default_only_xtrack`.\n",
      "Found suitable prebuilt kernel `default_only_xtrack`.\n",
      "Matching: model call n. 31               \n",
      "\n",
      "Generated knob:  on_x8v\n",
      "Found suitable prebuilt kernel `default_only_xtrack`.\n",
      "Found suitable prebuilt kernel `default_only_xtrack`.\n",
      "Matching: model call n. 30               \n",
      "\n",
      "Generated knob:  on_sep2h\n",
      "Found suitable prebuilt kernel `default_only_xtrack`.\n",
      "Found suitable prebuilt kernel `default_only_xtrack`.\n",
      "Matching: model call n. 20               \n",
      "\n",
      "Generated knob:  on_sep2v\n",
      "Found suitable prebuilt kernel `default_only_xtrack`.\n",
      "Found suitable prebuilt kernel `default_only_xtrack`.\n",
      "Matching: model call n. 40               \n",
      "\n",
      "Generated knob:  on_sep8h\n",
      "Found suitable prebuilt kernel `default_only_xtrack`.\n",
      "Found suitable prebuilt kernel `default_only_xtrack`.\n",
      "Matching: model call n. 20               \n",
      "\n",
      "Generated knob:  on_sep8v\n"
     ]
    }
   ],
   "source": [
    "optimizers_ip_knobs = lm.match_orbit_knobs_ip2_ip8(collider)pr"
   ]
  },
  {
   "cell_type": "code",
   "execution_count": 15,
   "id": "3c386df0-228d-4850-aa94-8c8e5ed0dd05",
   "metadata": {},
   "outputs": [
    {
     "ename": "SyntaxError",
     "evalue": "incomplete input (2978305169.py, line 1)",
     "output_type": "error",
     "traceback": [
      "\u001b[0;36m  Cell \u001b[0;32mIn[15], line 1\u001b[0;36m\u001b[0m\n\u001b[0;31m    print('Generated knobs:', list(optimizers_ip_knobs.keys())\u001b[0m\n\u001b[0m                                                              ^\u001b[0m\n\u001b[0;31mSyntaxError\u001b[0m\u001b[0;31m:\u001b[0m incomplete input\n"
     ]
    }
   ],
   "source": [
    "print('Generated knobs:', list(optimizers_ip_knobs.keys())"
   ]
  },
  {
   "cell_type": "code",
   "execution_count": null,
   "id": "ff94694c-bafa-4577-ac97-a9522d17e64a",
   "metadata": {},
   "outputs": [],
   "source": []
  }
 ],
 "metadata": {
  "kernelspec": {
   "display_name": "Python 3 (ipykernel)",
   "language": "python",
   "name": "python3"
  },
  "language_info": {
   "codemirror_mode": {
    "name": "ipython",
    "version": 3
   },
   "file_extension": ".py",
   "mimetype": "text/x-python",
   "name": "python",
   "nbconvert_exporter": "python",
   "pygments_lexer": "ipython3",
   "version": "3.11.7"
  }
 },
 "nbformat": 4,
 "nbformat_minor": 5
}
